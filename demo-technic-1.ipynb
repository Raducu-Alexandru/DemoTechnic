{
 "cells": [
  {
   "cell_type": "code",
   "execution_count": 1,
   "metadata": {},
   "outputs": [
    {
     "name": "stdout",
     "output_type": "stream",
     "text": [
      "Username: alex123\n"
     ]
    }
   ],
   "source": [
    "import redis\n",
    "\n",
    "# Conectare la Redis\n",
    "r = redis.Redis(host='localhost', port=6379, db=0)"
   ]
  },
  {
   "cell_type": "code",
   "execution_count": null,
   "metadata": {},
   "outputs": [],
   "source": [
    "# Setează și obține o valoare de tip string în Redis\n",
    "redis.set(\"username\", \"alexandru_raducu\")\n",
    "username = redis.get(\"username\")\n",
    "print(username)  # Output: b'alexandru_raducu'"
   ]
  },
  {
   "cell_type": "code",
   "execution_count": 2,
   "metadata": {},
   "outputs": [
    {
     "name": "stdout",
     "output_type": "stream",
     "text": [
      "Queue: ['task0', 'task1']\n"
     ]
    }
   ],
   "source": [
    "# Adaugă elemente într-o listă și obține întreaga listă\n",
    "redis.rpush(\"tasks\", \"task1\")\n",
    "redis.rpush(\"tasks\", \"task2\")\n",
    "redis.rpush(\"tasks\", \"task3\")\n",
    "tasks = redis.lrange(\"tasks\", 0, -1)\n",
    "print(tasks)  # Output: [b'task1', b'task2', b'task3']"
   ]
  },
  {
   "cell_type": "code",
   "execution_count": 3,
   "metadata": {},
   "outputs": [
    {
     "name": "stdout",
     "output_type": "stream",
     "text": [
      "Unique Users: ['user2', 'user1']\n"
     ]
    }
   ],
   "source": [
    "# Adaugă elemente într-un set și verifică apartenența unui element\n",
    "redis.sadd(\"visited_urls\", \"http://example1.com\")\n",
    "redis.sadd(\"visited_urls\", \"http://example2.com\")\n",
    "is_member = redis.sismember(\"visited_urls\", \"http://example2.com\")\n",
    "print(is_member)  # Output: True"
   ]
  },
  {
   "cell_type": "code",
   "execution_count": null,
   "metadata": {},
   "outputs": [],
   "source": [
    "# Adaugă elemente într-un set ordonat și le obține ordonate după scor\n",
    "redis.zadd(\"leaderboard\", {\"player1\": 3000, \"player2\": 1500, \"player3\": 5000})\n",
    "top_players = redis.zrevrange(\"leaderboard\", 0, -1, withscores=True)\n",
    "# Output: [(b'player3', 5000.0), (b'player1', 3000.0), (b'player2', 1500.0)]\n",
    "print(top_players)"
   ]
  },
  {
   "cell_type": "code",
   "execution_count": null,
   "metadata": {},
   "outputs": [],
   "source": [
    "# Setează câmpuri într-un hash și le obține\n",
    "redis.hset(\"user:1000\", mapping={\n",
    "           \"name\": \"Alex\", \"age\": \"30\", \"location\": \"Paris\"})\n",
    "user_info = redis.hgetall(\"user:1000\")\n",
    "# Output: {b'name': b'Alex', b'age': b'30', b'location': b'Paris'}\n",
    "print(user_info)"
   ]
  },
  {
   "cell_type": "code",
   "execution_count": null,
   "metadata": {},
   "outputs": [],
   "source": [
    "# Setează și obține biți într-un bitmap\n",
    "redis.setbit(\"user_active_days\", 5, 1)  # Setează al 6-lea bit la 1\n",
    "redis.setbit(\"user_active_days\", 10, 1)  # Setează al 11-lea bit la 1\n",
    "active_on_day_10 = redis.getbit(\"user_active_days\", 10)\n",
    "print(active_on_day_10)  # Output: 1"
   ]
  },
  {
   "cell_type": "code",
   "execution_count": null,
   "metadata": {},
   "outputs": [],
   "source": [
    "# Adaugă elemente și numără aproximativ elementele unice\n",
    "redis.pfadd(\"unique_users\", \"user1\", \"user2\", \"user3\", \"user1\")\n",
    "count = redis.pfcount(\"unique_users\")\n",
    "print(count)  # Output: 3"
   ]
  },
  {
   "cell_type": "code",
   "execution_count": null,
   "metadata": {},
   "outputs": [],
   "source": [
    "# Adaugă evenimente la un stream și citește din el\n",
    "redis.xadd(\"orders\", {\"user\": \"alexandru_raducu\",\n",
    "           \"product\": \"laptop\", \"price\": \"1200\"})\n",
    "redis.xadd(\"orders\", {\"user\": \"diana_raducu\", \"product\": \"phone\", \"price\": \"700\"})\n",
    "\n",
    "# Citește toate evenimentele din streamul `orders`\n",
    "orders = redis.xrange(\"orders\", min='-', max='+')\n",
    "for order_id, order_data in orders:\n",
    "    print(f\"Order ID: {order_id}, Data: {order_data}\")\n",
    "    # Exemplu de output: Order ID: 1688553354398-0, Data: {b'user': b'alexandru_raducu', b'product': b'laptop', b'price': b'1200'}"
   ]
  },
  {
   "cell_type": "code",
   "execution_count": null,
   "metadata": {},
   "outputs": [],
   "source": [
    "# Șterge toate datele din toate bazele de date Redis\n",
    "redis.flushall()"
   ]
  }
 ],
 "metadata": {
  "kernelspec": {
   "display_name": ".venv",
   "language": "python",
   "name": "python3"
  },
  "language_info": {
   "codemirror_mode": {
    "name": "ipython",
    "version": 3
   },
   "file_extension": ".py",
   "mimetype": "text/x-python",
   "name": "python",
   "nbconvert_exporter": "python",
   "pygments_lexer": "ipython3",
   "version": "3.12.5"
  }
 },
 "nbformat": 4,
 "nbformat_minor": 2
}
